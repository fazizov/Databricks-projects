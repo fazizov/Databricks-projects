{
 "cells": [
  {
   "cell_type": "code",
   "execution_count": 0,
   "metadata": {
    "application/vnd.databricks.v1+cell": {
     "cellMetadata": {
      "byteLimit": 2048000,
      "rowLimit": 10000
     },
     "inputWidgets": {},
     "nuid": "e98a7124-ed14-40b4-bbbf-65c75be2404b",
     "showTitle": false,
     "tableResultSettingsMap": {},
     "title": ""
    }
   },
   "outputs": [],
   "source": [
    "%run ./GenerateStreamingData-Autoloader"
   ]
  },
  {
   "cell_type": "code",
   "execution_count": 0,
   "metadata": {
    "application/vnd.databricks.v1+cell": {
     "cellMetadata": {
      "byteLimit": 2048000,
      "rowLimit": 10000
     },
     "inputWidgets": {},
     "nuid": "b8f82024-862e-49e7-83da-69ffbb5dab97",
     "showTitle": false,
     "tableResultSettingsMap": {},
     "title": ""
    }
   },
   "outputs": [],
   "source": [
    "import pyspark.sql.functions as F\n",
    "from pyspark.sql.types import *"
   ]
  },
  {
   "cell_type": "markdown",
   "metadata": {
    "application/vnd.databricks.v1+cell": {
     "cellMetadata": {
      "byteLimit": 2048000,
      "rowLimit": 10000
     },
     "inputWidgets": {},
     "nuid": "9d4d1fc7-7c3e-4959-8cf5-00129ec764f1",
     "showTitle": false,
     "tableResultSettingsMap": {},
     "title": ""
    }
   },
   "source": [
    "# Preparing environment"
   ]
  },
  {
   "cell_type": "code",
   "execution_count": 0,
   "metadata": {
    "application/vnd.databricks.v1+cell": {
     "cellMetadata": {
      "byteLimit": 2048000,
      "implicitDf": true,
      "rowLimit": 10000
     },
     "inputWidgets": {},
     "nuid": "69b69356-2aba-4ea4-99d9-87cd29a55a34",
     "showTitle": false,
     "tableResultSettingsMap": {},
     "title": ""
    }
   },
   "outputs": [],
   "source": [
    "%sql\n",
    "Use catalog learn_adb_fikrat;\n",
    "create schema if not exists bronze;\n",
    "Use bronze;"
   ]
  },
  {
   "cell_type": "code",
   "execution_count": 0,
   "metadata": {
    "application/vnd.databricks.v1+cell": {
     "cellMetadata": {
      "byteLimit": 2048000,
      "rowLimit": 10000
     },
     "inputWidgets": {},
     "nuid": "3abdeaff-2d0e-4596-9b22-31d59ee773e1",
     "showTitle": true,
     "tableResultSettingsMap": {},
     "title": "Defining variables"
    }
   },
   "outputs": [],
   "source": [
    "root_data_folder='/Volumes/learn_adb_fikrat/bronze/landing/autoloader'\n",
    "sensor_data_folder=f'{root_data_folder}/sensor'\n",
    "checkpoint_root_path = \"/Volumes/learn_adb_fikrat/bronze/ext_landing_volume/streaming-checkpoints/autoloader\"\n",
    "\n",
    "checkpoint_path_sensor=f'{checkpoint_root_path}/iot_measurements'\n",
    "schema_path_sensor=f'{checkpoint_root_path}/iot_measurements/schema'\n",
    "checkpoint_path_sensor1=f'{checkpoint_root_path}/iot_measurements1'\n",
    "checkpoint_path_sensor2=f'{checkpoint_root_path}/iot_measurements2'\n",
    "checkpoint_path_sensor3=f'{checkpoint_root_path}/iot_measurements3'\n",
    "checkpoint_path_sensor4=f'{checkpoint_root_path}/iot_measurements4'\n",
    "# checkpoint_path_sensor5=f'{checkpoint_root_path}/iot_measurements5'\n",
    "# checkpoint_path_sensor6=f'{checkpoint_root_path}/iot_measurements6'\n",
    "# checkpoint_path_sensor7=f'{checkpoint_root_path}/iot_measurements7'\n",
    "# checkpoint_path_sensor8=f'{checkpoint_root_path}/iot_measurements8'\n",
    "# checkpoint_path_weather=f'{checkpoint_root_path}/weather'\n"
   ]
  },
  {
   "cell_type": "code",
   "execution_count": 0,
   "metadata": {
    "application/vnd.databricks.v1+cell": {
     "cellMetadata": {
      "byteLimit": 2048000,
      "implicitDf": true,
      "rowLimit": 10000
     },
     "inputWidgets": {},
     "nuid": "44ade5d9-c043-4e7e-9195-c7e1dd777bbe",
     "showTitle": false,
     "tableResultSettingsMap": {},
     "title": ""
    }
   },
   "outputs": [],
   "source": [
    "def drop_all_tables():\n",
    "    spark.sql(\"DROP TABLE IF EXISTS bronze.iot_measurements_autoloader\")\n",
    "    spark.sql(\"DROP TABLE IF EXISTS bronze.iot_measurements_autoloader1\")\n",
    "    spark.sql(\"DROP TABLE IF EXISTS bronze.iot_measurements_autoloader2\")\n",
    "    spark.sql(\"DROP TABLE IF EXISTS bronze.iot_measurements_autoloader3\")\n",
    "    spark.sql(\"DROP TABLE IF EXISTS bronze.iot_measurements_autoloader4\")\n",
    "\n",
    "def reset_checkpoints():\n",
    "    dbutils.fs.rm(checkpoint_path_sensor, True)\n",
    "    dbutils.fs.rm(schema_path_sensor, True)\n",
    "    dbutils.fs.rm(checkpoint_path_sensor1, True)\n",
    "    dbutils.fs.rm(checkpoint_path_sensor2, True)\n",
    "    dbutils.fs.rm(checkpoint_path_sensor3, True)\n",
    "    dbutils.fs.rm(checkpoint_path_sensor4, True)"
   ]
  },
  {
   "cell_type": "code",
   "execution_count": 0,
   "metadata": {
    "application/vnd.databricks.v1+cell": {
     "cellMetadata": {
      "byteLimit": 2048000,
      "rowLimit": 10000
     },
     "inputWidgets": {},
     "nuid": "5ebcf3ee-6a03-48ec-bae6-dc8a0ae2e5ea",
     "showTitle": true,
     "tableResultSettingsMap": {},
     "title": "Cleanse checkpointing folders"
    }
   },
   "outputs": [],
   "source": [
    "def reset_environment(root_data_folder):\n",
    "    drop_all_tables()\n",
    "    reset_checkpoints()\n",
    "    prepare_data(root_data_folder)"
   ]
  },
  {
   "cell_type": "markdown",
   "metadata": {
    "application/vnd.databricks.v1+cell": {
     "cellMetadata": {
      "byteLimit": 2048000,
      "rowLimit": 10000
     },
     "inputWidgets": {},
     "nuid": "d75903fc-7855-4604-b6ff-cbcd90b0ab70",
     "showTitle": false,
     "tableResultSettingsMap": {},
     "title": ""
    }
   },
   "source": [
    "#Basic streaming operations: read and write"
   ]
  },
  {
   "cell_type": "markdown",
   "metadata": {
    "application/vnd.databricks.v1+cell": {
     "cellMetadata": {
      "byteLimit": 2048000,
      "rowLimit": 10000
     },
     "inputWidgets": {},
     "nuid": "9b650d0b-d415-4dc3-9f04-ef72e1db1416",
     "showTitle": false,
     "tableResultSettingsMap": {},
     "title": ""
    }
   },
   "source": [
    "### Basic read/write"
   ]
  },
  {
   "cell_type": "code",
   "execution_count": 0,
   "metadata": {
    "application/vnd.databricks.v1+cell": {
     "cellMetadata": {
      "byteLimit": 2048000,
      "rowLimit": 10000
     },
     "inputWidgets": {},
     "nuid": "c221031d-e5cd-42bd-891f-f9e74a574c37",
     "showTitle": false,
     "tableResultSettingsMap": {},
     "title": ""
    }
   },
   "outputs": [],
   "source": [
    "reset_environment(root_data_folder)\n",
    "gernerate_persist_streaming_data(datetime(2025, 1, 3),2,root_data_folder)"
   ]
  },
  {
   "cell_type": "code",
   "execution_count": 0,
   "metadata": {
    "application/vnd.databricks.v1+cell": {
     "cellMetadata": {
      "byteLimit": 2048000,
      "rowLimit": 10000
     },
     "inputWidgets": {},
     "nuid": "1f43c495-5c39-440e-b7b6-96086250fd18",
     "showTitle": true,
     "tableResultSettingsMap": {},
     "title": "Basic usage- read & display"
    }
   },
   "outputs": [],
   "source": [
    "dfSensor = spark.readStream.format(\"cloudFiles\")\\\n",
    "    .option(\"cloudFiles.format\", \"json\")\\\n",
    "    .option(\"cloudFiles.schemaLocation\", schema_path_sensor)\\\n",
    "    .load(sensor_data_folder)\n",
    "# display(dfSensor)    "
   ]
  },
  {
   "cell_type": "code",
   "execution_count": 0,
   "metadata": {
    "application/vnd.databricks.v1+cell": {
     "cellMetadata": {
      "byteLimit": 2048000,
      "rowLimit": 10000
     },
     "inputWidgets": {},
     "nuid": "8a91ab5e-21b6-42e0-9b1b-2e538bc801cb",
     "showTitle": true,
     "tableResultSettingsMap": {},
     "title": "Read & write stream"
    }
   },
   "outputs": [],
   "source": [
    "dfs = spark.readStream.format(\"cloudFiles\")\\\n",
    "    .option(\"cloudFiles.format\", \"json\")\\\n",
    "    .option(\"cloudFiles.schemaLocation\", schema_path_sensor)\\\n",
    "    .load(sensor_data_folder)\\\n",
    "    .writeStream\\\n",
    "    .option(\"checkpointLocation\", checkpoint_path_sensor)\\\n",
    "    .toTable('bronze.iot_measurements_autoloader')    "
   ]
  },
  {
   "cell_type": "code",
   "execution_count": 0,
   "metadata": {
    "application/vnd.databricks.v1+cell": {
     "cellMetadata": {
      "byteLimit": 2048000,
      "implicitDf": true,
      "rowLimit": 10000
     },
     "inputWidgets": {},
     "nuid": "0eac3c55-08fb-4805-b85b-4de740c65520",
     "showTitle": true,
     "tableResultSettingsMap": {},
     "title": "Inspecting destination table"
    }
   },
   "outputs": [],
   "source": [
    "%sql\n",
    "select * from bronze.iot_measurements_autoloader  --where `_rescued_data` is not null;\n",
    "-- select min(EventTime), max(EventTime), count(*) from bronze.iot_measurements_autoloader"
   ]
  },
  {
   "cell_type": "code",
   "execution_count": 0,
   "metadata": {
    "application/vnd.databricks.v1+cell": {
     "cellMetadata": {
      "byteLimit": 2048000,
      "rowLimit": 10000
     },
     "inputWidgets": {},
     "nuid": "5f809603-4477-4a54-aab0-5f6f28ca2b08",
     "showTitle": false,
     "tableResultSettingsMap": {},
     "title": ""
    }
   },
   "outputs": [],
   "source": [
    "gernerate_persist_streaming_data_enhanced(datetime(2025, 1, 8),3,root_data_folder)"
   ]
  },
  {
   "cell_type": "markdown",
   "metadata": {
    "application/vnd.databricks.v1+cell": {
     "cellMetadata": {},
     "inputWidgets": {},
     "nuid": "239ff083-bd0a-4dc8-b3dd-ef5dcff85211",
     "showTitle": false,
     "tableResultSettingsMap": {},
     "title": ""
    }
   },
   "source": [
    "## Schema evolution"
   ]
  },
  {
   "cell_type": "markdown",
   "metadata": {
    "application/vnd.databricks.v1+cell": {
     "cellMetadata": {},
     "inputWidgets": {},
     "nuid": "ffbefa53-01e8-43e0-ba14-43392a4a8de1",
     "showTitle": false,
     "tableResultSettingsMap": {},
     "title": ""
    }
   },
   "source": [
    "Options:\n",
    "- addNewColumns (default)\n",
    "- rescue\n",
    "- failOnNewColumns\n",
    "- none"
   ]
  },
  {
   "cell_type": "markdown",
   "metadata": {
    "application/vnd.databricks.v1+cell": {
     "cellMetadata": {},
     "inputWidgets": {},
     "nuid": "2ecc3790-0a14-4f19-bf39-b8cf6fcab8cf",
     "showTitle": false,
     "tableResultSettingsMap": {},
     "title": ""
    }
   },
   "source": [
    "### addNewColumns option"
   ]
  },
  {
   "cell_type": "code",
   "execution_count": 0,
   "metadata": {
    "application/vnd.databricks.v1+cell": {
     "cellMetadata": {
      "byteLimit": 2048000,
      "rowLimit": 10000
     },
     "inputWidgets": {},
     "nuid": "ff3686c3-f1c5-42a9-9b92-9859c18c12a4",
     "showTitle": true,
     "tableResultSettingsMap": {},
     "title": "Generate regular data"
    }
   },
   "outputs": [],
   "source": [
    "reset_environment(root_data_folder)\n",
    "gernerate_persist_streaming_data(datetime(2025, 1, 3),2,root_data_folder)"
   ]
  },
  {
   "cell_type": "code",
   "execution_count": 0,
   "metadata": {
    "application/vnd.databricks.v1+cell": {
     "cellMetadata": {
      "byteLimit": 2048000,
      "rowLimit": 10000
     },
     "inputWidgets": {},
     "nuid": "0c4cff74-73c0-4c19-b82e-d45c570ffce5",
     "showTitle": true,
     "tableResultSettingsMap": {},
     "title": "addNewColumns option"
    }
   },
   "outputs": [],
   "source": [
    "dfSensor = spark.readStream.format(\"cloudFiles\")\\\n",
    "    .option(\"cloudFiles.format\", \"json\")\\\n",
    "    .option(\"cloudFiles.schemaLocation\", schema_path_sensor)\\\n",
    "    .option(\"cloudFiles.inferColumnTypes\", True)\\\n",
    "    .option(\"cloudFiles.schemaEvolutionMode\",\"addNewColumns\")\\\n",
    "    .load(sensor_data_folder)\\\n",
    "    .writeStream\\\n",
    "    .option(\"checkpointLocation\", checkpoint_path_sensor1)\\\n",
    "    .option(\"mergeSchema\",True) \\\n",
    "    .toTable('bronze.iot_measurements_autoloader1') "
   ]
  },
  {
   "cell_type": "code",
   "execution_count": 0,
   "metadata": {
    "application/vnd.databricks.v1+cell": {
     "cellMetadata": {
      "byteLimit": 2048000,
      "implicitDf": true,
      "rowLimit": 10000
     },
     "inputWidgets": {},
     "nuid": "74a6b2e7-d721-498f-a662-8781a6b449d1",
     "showTitle": false,
     "tableResultSettingsMap": {},
     "title": ""
    }
   },
   "outputs": [],
   "source": [
    "%sql\n",
    "select * from bronze.iot_measurements_autoloader1  --where `_rescued_data` is not null;"
   ]
  },
  {
   "cell_type": "code",
   "execution_count": 0,
   "metadata": {
    "application/vnd.databricks.v1+cell": {
     "cellMetadata": {
      "byteLimit": 2048000,
      "rowLimit": 10000
     },
     "inputWidgets": {},
     "nuid": "bacaf76a-c053-4934-86a7-4d5362fe8226",
     "showTitle": true,
     "tableResultSettingsMap": {},
     "title": "Generate irregular data"
    }
   },
   "outputs": [],
   "source": [
    "gernerate_persist_streaming_data_enhanced(datetime(2025, 1, 8),1,root_data_folder)"
   ]
  },
  {
   "cell_type": "markdown",
   "metadata": {
    "application/vnd.databricks.v1+cell": {
     "cellMetadata": {},
     "inputWidgets": {},
     "nuid": "d620a288-5ed7-44a9-a33b-5990dba76730",
     "showTitle": false,
     "tableResultSettingsMap": {},
     "title": ""
    }
   },
   "source": [
    "### failOnNewColumns option"
   ]
  },
  {
   "cell_type": "code",
   "execution_count": 0,
   "metadata": {
    "application/vnd.databricks.v1+cell": {
     "cellMetadata": {
      "byteLimit": 2048000,
      "rowLimit": 10000
     },
     "inputWidgets": {},
     "nuid": "4ccf042e-f8bb-4ce3-a81d-619f2a8dd6f2",
     "showTitle": true,
     "tableResultSettingsMap": {},
     "title": "Generate regular data"
    }
   },
   "outputs": [],
   "source": [
    "reset_environment(root_data_folder)\n",
    "gernerate_persist_streaming_data(datetime(2025, 1, 3),1,root_data_folder)"
   ]
  },
  {
   "cell_type": "code",
   "execution_count": 0,
   "metadata": {
    "application/vnd.databricks.v1+cell": {
     "cellMetadata": {
      "byteLimit": 2048000,
      "rowLimit": 10000
     },
     "inputWidgets": {},
     "nuid": "3bc2a69c-7175-4506-b3c5-af5fb7fa6e09",
     "showTitle": true,
     "tableResultSettingsMap": {},
     "title": "failOnNewColumns"
    }
   },
   "outputs": [],
   "source": [
    "dfSensor = spark.readStream.format(\"cloudFiles\")\\\n",
    "    .option(\"cloudFiles.format\", \"json\")\\\n",
    "    .option(\"cloudFiles.schemaLocation\", schema_path_sensor)\\\n",
    "    .option(\"cloudFiles.schemaEvolutionMode\",\"failOnNewColumns\")\\\n",
    "    .load(sensor_data_folder)\\\n",
    "    .writeStream\\\n",
    "    .option(\"checkpointLocation\", checkpoint_path_sensor2)\\\n",
    "    .option(\"mergeSchema\",True) \\\n",
    "    .toTable('bronze.iot_measurements_autoloader2') "
   ]
  },
  {
   "cell_type": "code",
   "execution_count": 0,
   "metadata": {
    "application/vnd.databricks.v1+cell": {
     "cellMetadata": {
      "byteLimit": 2048000,
      "implicitDf": true,
      "rowLimit": 10000
     },
     "inputWidgets": {},
     "nuid": "db058478-629b-463c-98f9-5faf83c96923",
     "showTitle": false,
     "tableResultSettingsMap": {},
     "title": ""
    }
   },
   "outputs": [],
   "source": [
    "%sql\n",
    "select * from bronze.iot_measurements_autoloader2"
   ]
  },
  {
   "cell_type": "code",
   "execution_count": 0,
   "metadata": {
    "application/vnd.databricks.v1+cell": {
     "cellMetadata": {
      "byteLimit": 2048000,
      "rowLimit": 10000
     },
     "inputWidgets": {},
     "nuid": "16a85f45-cb1f-4562-9f41-17d4b562966d",
     "showTitle": true,
     "tableResultSettingsMap": {},
     "title": "Generate irregular data"
    }
   },
   "outputs": [],
   "source": [
    "gernerate_persist_streaming_data_enhanced(datetime(2025, 1, 8),1,root_data_folder)"
   ]
  },
  {
   "cell_type": "markdown",
   "metadata": {
    "application/vnd.databricks.v1+cell": {
     "cellMetadata": {},
     "inputWidgets": {},
     "nuid": "2a68a645-0017-4015-8752-fedcd61bd8d6",
     "showTitle": false,
     "tableResultSettingsMap": {},
     "title": ""
    }
   },
   "source": [
    "### Rescue option"
   ]
  },
  {
   "cell_type": "code",
   "execution_count": 0,
   "metadata": {
    "application/vnd.databricks.v1+cell": {
     "cellMetadata": {
      "byteLimit": 2048000,
      "rowLimit": 10000
     },
     "inputWidgets": {},
     "nuid": "37f92479-38b1-4738-ba9e-fae623924e29",
     "showTitle": true,
     "tableResultSettingsMap": {},
     "title": "Generate regular data"
    }
   },
   "outputs": [],
   "source": [
    "reset_environment(root_data_folder)\n",
    "gernerate_persist_streaming_data(datetime(2025, 1, 3),1,root_data_folder)"
   ]
  },
  {
   "cell_type": "code",
   "execution_count": 0,
   "metadata": {
    "application/vnd.databricks.v1+cell": {
     "cellMetadata": {
      "byteLimit": 2048000,
      "rowLimit": 10000
     },
     "inputWidgets": {},
     "nuid": "58134a38-3138-4767-ba36-ee0c784d863e",
     "showTitle": true,
     "tableResultSettingsMap": {},
     "title": "rescue"
    }
   },
   "outputs": [],
   "source": [
    "spark.readStream.format(\"cloudFiles\")\\\n",
    "    .option(\"cloudFiles.format\", \"json\")\\\n",
    "    .option(\"cloudFiles.schemaLocation\", schema_path_sensor)\\\n",
    "    .option(\"cloudFiles.schemaEvolutionMode\",\"rescue\")\\\n",
    "    .load(sensor_data_folder)\\\n",
    "    .writeStream\\\n",
    "    .option(\"checkpointLocation\", checkpoint_path_sensor3)\\\n",
    "    .option(\"mergeSchema\",True) \\\n",
    "    .toTable('bronze.iot_measurements_autoloader3') "
   ]
  },
  {
   "cell_type": "code",
   "execution_count": 0,
   "metadata": {
    "application/vnd.databricks.v1+cell": {
     "cellMetadata": {
      "byteLimit": 2048000,
      "implicitDf": true,
      "rowLimit": 10000
     },
     "inputWidgets": {},
     "nuid": "50e3eed5-5493-4e76-8c74-a805be7ca1ea",
     "showTitle": false,
     "tableResultSettingsMap": {},
     "title": ""
    }
   },
   "outputs": [],
   "source": [
    "%sql\n",
    "select * from bronze.iot_measurements_autoloader3 --where `_rescued_data`is not null"
   ]
  },
  {
   "cell_type": "code",
   "execution_count": 0,
   "metadata": {
    "application/vnd.databricks.v1+cell": {
     "cellMetadata": {
      "byteLimit": 2048000,
      "rowLimit": 10000
     },
     "inputWidgets": {},
     "nuid": "e5bc6b12-3b20-4a9d-9144-17dac5ee0fa4",
     "showTitle": true,
     "tableResultSettingsMap": {},
     "title": "Generate irregular data"
    }
   },
   "outputs": [],
   "source": [
    "gernerate_persist_streaming_data_enhanced(datetime(2025, 1, 8),1,root_data_folder)"
   ]
  },
  {
   "cell_type": "markdown",
   "metadata": {
    "application/vnd.databricks.v1+cell": {
     "cellMetadata": {},
     "inputWidgets": {},
     "nuid": "2db5ae74-9b38-4c4d-a824-044aa554bc30",
     "showTitle": false,
     "tableResultSettingsMap": {},
     "title": ""
    }
   },
   "source": [
    "### None option"
   ]
  },
  {
   "cell_type": "code",
   "execution_count": 0,
   "metadata": {
    "application/vnd.databricks.v1+cell": {
     "cellMetadata": {
      "byteLimit": 2048000,
      "rowLimit": 10000
     },
     "inputWidgets": {},
     "nuid": "5ee0e952-4680-4642-b145-b12debb1480f",
     "showTitle": true,
     "tableResultSettingsMap": {},
     "title": "Generate regular data"
    }
   },
   "outputs": [],
   "source": [
    "reset_environment(root_data_folder)\n",
    "gernerate_persist_streaming_data(datetime(2025, 1, 3),1,root_data_folder)"
   ]
  },
  {
   "cell_type": "code",
   "execution_count": 0,
   "metadata": {
    "application/vnd.databricks.v1+cell": {
     "cellMetadata": {
      "byteLimit": 2048000,
      "rowLimit": 10000
     },
     "inputWidgets": {},
     "nuid": "47417db2-a1ee-4f6d-ad06-ca7cf1e0a3b7",
     "showTitle": true,
     "tableResultSettingsMap": {},
     "title": "None option"
    }
   },
   "outputs": [],
   "source": [
    "spark.readStream.format(\"cloudFiles\")\\\n",
    "    .option(\"cloudFiles.format\", \"json\")\\\n",
    "    .option(\"cloudFiles.schemaLocation\", schema_path_sensor)\\\n",
    "    .option(\"cloudFiles.schemaEvolutionMode\",\"none\")\\\n",
    "    .load(sensor_data_folder)\\\n",
    "    .writeStream\\\n",
    "    .option(\"checkpointLocation\", checkpoint_path_sensor4)\\\n",
    "    .option(\"mergeSchema\",True) \\\n",
    "    .toTable('bronze.iot_measurements_autoloader4') "
   ]
  },
  {
   "cell_type": "code",
   "execution_count": 0,
   "metadata": {
    "application/vnd.databricks.v1+cell": {
     "cellMetadata": {
      "byteLimit": 2048000,
      "implicitDf": true,
      "rowLimit": 10000
     },
     "inputWidgets": {},
     "nuid": "e1197966-9bc4-4b7a-9caf-a51c8f2bd300",
     "showTitle": false,
     "tableResultSettingsMap": {},
     "title": ""
    }
   },
   "outputs": [],
   "source": [
    "%sql\n",
    "select * from bronze.iot_measurements_autoloader4 "
   ]
  },
  {
   "cell_type": "code",
   "execution_count": 0,
   "metadata": {
    "application/vnd.databricks.v1+cell": {
     "cellMetadata": {
      "byteLimit": 2048000,
      "rowLimit": 10000
     },
     "inputWidgets": {},
     "nuid": "8f3510e1-b354-41fb-bd04-282677d65fa1",
     "showTitle": true,
     "tableResultSettingsMap": {},
     "title": "Generate irregular data"
    }
   },
   "outputs": [],
   "source": [
    "gernerate_persist_streaming_data_enhanced(datetime(2025, 1, 8),1,root_data_folder)"
   ]
  },
  {
   "cell_type": "markdown",
   "metadata": {
    "application/vnd.databricks.v1+cell": {
     "cellMetadata": {},
     "inputWidgets": {},
     "nuid": "173ac2b4-b563-40c0-9f84-cb8603dfe54f",
     "showTitle": false,
     "tableResultSettingsMap": {},
     "title": ""
    }
   },
   "source": [
    "## Inferring column data types"
   ]
  },
  {
   "cell_type": "code",
   "execution_count": 0,
   "metadata": {
    "application/vnd.databricks.v1+cell": {
     "cellMetadata": {
      "byteLimit": 2048000,
      "rowLimit": 10000
     },
     "inputWidgets": {},
     "nuid": "4827a605-61ab-402f-8660-0e67a1faf550",
     "showTitle": false,
     "tableResultSettingsMap": {},
     "title": ""
    }
   },
   "outputs": [],
   "source": [
    "gernerate_persist_streaming_data_enhanced(datetime(2025, 1, 8),1,root_data_folder)"
   ]
  },
  {
   "cell_type": "code",
   "execution_count": 0,
   "metadata": {
    "application/vnd.databricks.v1+cell": {
     "cellMetadata": {},
     "inputWidgets": {},
     "nuid": "88a8e238-b328-4860-86d9-21ef4598747f",
     "showTitle": true,
     "tableResultSettingsMap": {},
     "title": "No inferring"
    }
   },
   "outputs": [],
   "source": [
    "dfSensor = spark.readStream.format(\"cloudFiles\")\\\n",
    "    .option(\"cloudFiles.format\", \"json\")\\\n",
    "    .option(\"cloudFiles.schemaLocation\", schema_path_sensor)\\\n",
    "    .option(\"cloudFiles.schemaEvolutionMode\",\"rescue\")\\\n",
    "    .option(\"cloudFiles.inferColumnTypes\",False)\\\n",
    "    .load(sensor_data_folder)\n",
    "display(dfSensor)    "
   ]
  },
  {
   "cell_type": "code",
   "execution_count": 0,
   "metadata": {
    "application/vnd.databricks.v1+cell": {
     "cellMetadata": {
      "byteLimit": 2048000,
      "rowLimit": 10000
     },
     "inputWidgets": {},
     "nuid": "69a5b5d8-597f-442c-bfe3-faf892e74a16",
     "showTitle": true,
     "tableResultSettingsMap": {},
     "title": "Inferring column types"
    }
   },
   "outputs": [],
   "source": [
    "dfSensor = spark.readStream.format(\"cloudFiles\")\\\n",
    "    .option(\"cloudFiles.format\", \"json\")\\\n",
    "    .option(\"cloudFiles.schemaLocation\", schema_path_sensor)\\\n",
    "    .option(\"cloudFiles.schemaEvolutionMode\",\"rescue\")\\\n",
    "    .option(\"cloudFiles.inferColumnTypes\",True)\\\n",
    "    .load(sensor_data_folder)\n",
    "display(dfSensor)    "
   ]
  },
  {
   "cell_type": "code",
   "execution_count": 0,
   "metadata": {
    "application/vnd.databricks.v1+cell": {
     "cellMetadata": {
      "byteLimit": 2048000,
      "rowLimit": 10000
     },
     "inputWidgets": {},
     "nuid": "5ea60984-4aa0-44d6-9d8b-baab805ce01c",
     "showTitle": true,
     "tableResultSettingsMap": {},
     "title": "Using schema hints"
    }
   },
   "outputs": [],
   "source": [
    "dfSensor = spark.readStream.format(\"cloudFiles\")\\\n",
    "    .option(\"cloudFiles.format\", \"json\")\\\n",
    "    .option(\"cloudFiles.schemaLocation\", schema_path_sensor)\\\n",
    "    .option(\"cloudFiles.schemaEvolutionMode\",\"rescue\")\\\n",
    "    .option(\"cloudFiles.schemaHints\",\"EventTime timestamp,Pressure double\")\\\n",
    "    .load(sensor_data_folder)\n",
    "display(dfSensor)    "
   ]
  },
  {
   "cell_type": "markdown",
   "metadata": {
    "application/vnd.databricks.v1+cell": {
     "cellMetadata": {},
     "inputWidgets": {},
     "nuid": "3f4753d7-97ac-4b0b-9c8c-d60883d49b17",
     "showTitle": false,
     "tableResultSettingsMap": {},
     "title": ""
    }
   },
   "source": [
    "## Common configuration options"
   ]
  },
  {
   "cell_type": "markdown",
   "metadata": {
    "application/vnd.databricks.v1+cell": {
     "cellMetadata": {},
     "inputWidgets": {},
     "nuid": "c60521c4-962d-4c97-877e-f83f86edfd37",
     "showTitle": false,
     "tableResultSettingsMap": {},
     "title": ""
    }
   },
   "source": [
    "- cloudFiles.includeExistingFiles\n",
    "- modifiedAfter,modifiedBefore"
   ]
  },
  {
   "cell_type": "code",
   "execution_count": 0,
   "metadata": {
    "application/vnd.databricks.v1+cell": {
     "cellMetadata": {
      "byteLimit": 2048000,
      "rowLimit": 10000
     },
     "inputWidgets": {},
     "nuid": "cc73afcb-bb8a-45fa-8153-a2f1cbf82bd6",
     "showTitle": true,
     "tableResultSettingsMap": {},
     "title": "includeExistingFiles"
    }
   },
   "outputs": [],
   "source": [
    "dfSensor = spark.readStream.format(\"cloudFiles\")\\\n",
    "    .option(\"cloudFiles.format\", \"json\")\\\n",
    "    .option(\"cloudFiles.schemaLocation\", schema_path_sensor)\\\n",
    "    .option(\"cloudFiles.includeExistingFiles\", False)\\\n",
    "    .option(\"cloudFiles.schemaEvolutionMode\",\"rescue\")\\\n",
    "    .load(sensor_data_folder)\n",
    "display(dfSensor)    "
   ]
  },
  {
   "cell_type": "code",
   "execution_count": 0,
   "metadata": {
    "application/vnd.databricks.v1+cell": {
     "cellMetadata": {
      "byteLimit": 2048000,
      "rowLimit": 10000
     },
     "inputWidgets": {},
     "nuid": "58d6466a-2323-4619-8de9-695665db06a6",
     "showTitle": false,
     "tableResultSettingsMap": {},
     "title": ""
    }
   },
   "outputs": [],
   "source": [
    "gernerate_persist_streaming_data_enhanced(datetime(2025, 1, 8),1,root_data_folder)"
   ]
  },
  {
   "cell_type": "code",
   "execution_count": 0,
   "metadata": {
    "application/vnd.databricks.v1+cell": {
     "cellMetadata": {
      "byteLimit": 2048000,
      "rowLimit": 10000
     },
     "inputWidgets": {},
     "nuid": "8d607386-c918-4252-ac7e-d858b8b13eba",
     "showTitle": true,
     "tableResultSettingsMap": {},
     "title": "modifiedBefore"
    }
   },
   "outputs": [],
   "source": [
    "dfSensor = spark.readStream.format(\"cloudFiles\")\\\n",
    "    .option(\"cloudFiles.format\", \"json\")\\\n",
    "    .option(\"cloudFiles.schemaLocation\", schema_path_sensor)\\\n",
    "    .option(\"modifiedBefore\", \"2025-01-23T09:00:00.000 UTC-5:00\")\\\n",
    "    .option(\"cloudFiles.schemaEvolutionMode\",\"rescue\")\\\n",
    "    .load(sensor_data_folder)\\\n",
    "    .filter(col(\"EventTime\").cast(\"timestamp\") <datetime(2025, 1,8))\n",
    "display(dfSensor)    "
   ]
  },
  {
   "cell_type": "markdown",
   "metadata": {
    "application/vnd.databricks.v1+cell": {
     "cellMetadata": {},
     "inputWidgets": {},
     "nuid": "1b3b40ac-2033-4575-bff6-b9a80a9ca264",
     "showTitle": false,
     "tableResultSettingsMap": {},
     "title": ""
    }
   },
   "source": []
  },
  {
   "cell_type": "markdown",
   "metadata": {
    "application/vnd.databricks.v1+cell": {
     "cellMetadata": {
      "byteLimit": 2048000,
      "rowLimit": 10000
     },
     "inputWidgets": {},
     "nuid": "cae26dfb-d4f9-463c-a893-97d08ad4c185",
     "showTitle": false,
     "tableResultSettingsMap": {},
     "title": ""
    }
   },
   "source": []
  }
 ],
 "metadata": {
  "application/vnd.databricks.v1+notebook": {
   "computePreferences": null,
   "dashboards": [],
   "environmentMetadata": {
    "base_environment": "",
    "environment_version": "1"
   },
   "language": "python",
   "notebookMetadata": {
    "mostRecentlyExecutedCommandWithImplicitDF": {
     "commandId": 7835080049365349,
     "dataframes": [
      "_sqldf"
     ]
    },
    "pythonIndentUnit": 4
   },
   "notebookName": "Mastering Autoloader",
   "widgets": {}
  },
  "language_info": {
   "name": "python"
  }
 },
 "nbformat": 4,
 "nbformat_minor": 0
}
