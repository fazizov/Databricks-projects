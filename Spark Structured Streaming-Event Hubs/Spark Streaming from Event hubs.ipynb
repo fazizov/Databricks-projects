{
 "cells": [
  {
   "cell_type": "code",
   "execution_count": 0,
   "metadata": {
    "application/vnd.databricks.v1+cell": {
     "cellMetadata": {
      "byteLimit": 2048000,
      "rowLimit": 10000
     },
     "inputWidgets": {},
     "nuid": "b8f82024-862e-49e7-83da-69ffbb5dab97",
     "showTitle": false,
     "tableResultSettingsMap": {},
     "title": ""
    }
   },
   "outputs": [],
   "source": [
    "import pyspark.sql.functions as F\n",
    "from pyspark.sql.types import *"
   ]
  },
  {
   "cell_type": "code",
   "execution_count": 0,
   "metadata": {
    "application/vnd.databricks.v1+cell": {
     "cellMetadata": {
      "byteLimit": 2048000,
      "rowLimit": 10000
     },
     "inputWidgets": {},
     "nuid": "76067878-ae18-4b23-b0cc-44349aa4970c",
     "showTitle": false,
     "tableResultSettingsMap": {},
     "title": ""
    }
   },
   "outputs": [],
   "source": [
    "%run ./GenerateStreamingData"
   ]
  },
  {
   "cell_type": "markdown",
   "metadata": {
    "application/vnd.databricks.v1+cell": {
     "cellMetadata": {
      "byteLimit": 2048000,
      "rowLimit": 10000
     },
     "inputWidgets": {},
     "nuid": "093f4a47-6ce3-49a8-b8a0-d871bb62e9ef",
     "showTitle": false,
     "tableResultSettingsMap": {},
     "title": ""
    }
   },
   "source": [
    "### UC setup"
   ]
  },
  {
   "cell_type": "code",
   "execution_count": 0,
   "metadata": {
    "application/vnd.databricks.v1+cell": {
     "cellMetadata": {
      "byteLimit": 2048000,
      "implicitDf": true,
      "rowLimit": 10000
     },
     "inputWidgets": {},
     "nuid": "132cd0f5-6e7c-495e-be26-89c3b800d730",
     "showTitle": false,
     "tableResultSettingsMap": {},
     "title": ""
    }
   },
   "outputs": [],
   "source": [
    "%sql\n",
    "USE CATALOG learn_adb_fikrat;\n",
    "create schema if not exists bronze;\n",
    "create schema if not exists silver;\n",
    "Use bronze;"
   ]
  },
  {
   "cell_type": "code",
   "execution_count": 0,
   "metadata": {
    "application/vnd.databricks.v1+cell": {
     "cellMetadata": {
      "byteLimit": 2048000,
      "implicitDf": true,
      "rowLimit": 10000
     },
     "inputWidgets": {},
     "nuid": "3bdba91a-a2b3-40be-84c0-7761cb698ae8",
     "showTitle": false,
     "tableResultSettingsMap": {},
     "title": ""
    }
   },
   "outputs": [],
   "source": [
    "%sql\n",
    "drop table if exists iot_measurements_tmp;\n",
    "drop table if exists iot_measurements;\n",
    "drop table if exists silver.iot_measurements_aggregated\n"
   ]
  },
  {
   "cell_type": "code",
   "execution_count": 0,
   "metadata": {
    "application/vnd.databricks.v1+cell": {
     "cellMetadata": {
      "byteLimit": 2048000,
      "rowLimit": 10000
     },
     "inputWidgets": {},
     "nuid": "bc6cb36d-173e-4182-81aa-8a11b892221d",
     "showTitle": false,
     "tableResultSettingsMap": {},
     "title": ""
    }
   },
   "outputs": [],
   "source": [
    "checkpoint_root_path = \"/Volumes/learn_adb_fikrat/bronze/ext_landing_volume/streaming-checkpoints/eventhub\"\n",
    "checkpoint_path_sensor=f'{checkpoint_root_path}/iot_measurements'\n",
    "checkpoint_path_sensor1=f'{checkpoint_root_path}/iot_measurements1'\n",
    "checkpoint_path_sensor2=f'{checkpoint_root_path}/iot_measurements2'\n",
    "checkpoint_path_sensor3=f'{checkpoint_root_path}/iot_measurements3'"
   ]
  },
  {
   "cell_type": "code",
   "execution_count": 0,
   "metadata": {
    "application/vnd.databricks.v1+cell": {
     "cellMetadata": {
      "byteLimit": 2048000,
      "rowLimit": 10000
     },
     "inputWidgets": {},
     "nuid": "1de5f6e4-0d3c-4107-a287-9db1f05424ec",
     "showTitle": false,
     "tableResultSettingsMap": {},
     "title": ""
    }
   },
   "outputs": [],
   "source": [
    "dbutils.fs.rm(checkpoint_path_sensor, True)\n",
    "dbutils.fs.rm(checkpoint_path_sensor1, True)\n",
    "dbutils.fs.rm(checkpoint_path_sensor2, True)\n",
    "dbutils.fs.rm(checkpoint_path_sensor3, True)"
   ]
  },
  {
   "cell_type": "markdown",
   "metadata": {
    "application/vnd.databricks.v1+cell": {
     "cellMetadata": {
      "byteLimit": 2048000,
      "rowLimit": 10000
     },
     "inputWidgets": {},
     "nuid": "b43e0437-c107-4153-97fc-91cebdde787d",
     "showTitle": false,
     "tableResultSettingsMap": {},
     "title": ""
    }
   },
   "source": [
    "### Event Hub configurations"
   ]
  },
  {
   "cell_type": "code",
   "execution_count": 0,
   "metadata": {
    "application/vnd.databricks.v1+cell": {
     "cellMetadata": {
      "byteLimit": 2048000,
      "rowLimit": 10000
     },
     "inputWidgets": {},
     "nuid": "f818266a-f493-4b92-b13e-253df00bc886",
     "showTitle": false,
     "tableResultSettingsMap": {},
     "title": ""
    }
   },
   "outputs": [],
   "source": [
    "connection_string_ehs = dbutils.secrets.get(scope = \"fikrats_study_scope\", key = \"eh-dbr-source-connstr\")"
   ]
  },
  {
   "cell_type": "code",
   "execution_count": 0,
   "metadata": {
    "application/vnd.databricks.v1+cell": {
     "cellMetadata": {
      "byteLimit": 2048000,
      "rowLimit": 10000
     },
     "inputWidgets": {},
     "nuid": "dbd49a7d-67f7-4a31-88ec-de77426c8d50",
     "showTitle": false,
     "tableResultSettingsMap": {},
     "title": ""
    }
   },
   "outputs": [],
   "source": [
    "event_hub_namespace=\"eh-dbr\"\n",
    "source_event_hub_name=\"dbr-source\"\n",
    "sink_event_hub_name=\"dbr-target\"\n",
    "uc_name=\"learn_adb_fikrat\"\n",
    "temp_table_name=f'bronze.iot_measurements_tmp'"
   ]
  },
  {
   "cell_type": "code",
   "execution_count": 0,
   "metadata": {
    "application/vnd.databricks.v1+cell": {
     "cellMetadata": {
      "byteLimit": 2048000,
      "rowLimit": 10000
     },
     "inputWidgets": {},
     "nuid": "0c74505d-299d-44eb-be70-46095df233f9",
     "showTitle": true,
     "tableResultSettingsMap": {},
     "title": "Generating streaming data"
    }
   },
   "outputs": [],
   "source": [
    "generate_sensor_data(datetime(2025, 1, 1), datetime(2025, 2, 15),connection_string_ehs,\n",
    "                     source_event_hub_name,checkpoint_path_sensor,temp_table_name)"
   ]
  },
  {
   "cell_type": "markdown",
   "metadata": {
    "application/vnd.databricks.v1+cell": {
     "cellMetadata": {
      "byteLimit": 2048000,
      "rowLimit": 10000
     },
     "inputWidgets": {},
     "nuid": "db456900-b5cd-4e73-9d44-5aff937c7792",
     "showTitle": false,
     "tableResultSettingsMap": {},
     "title": ""
    }
   },
   "source": [
    "### Reading from Event Hub"
   ]
  },
  {
   "cell_type": "markdown",
   "metadata": {
    "application/vnd.databricks.v1+cell": {
     "cellMetadata": {
      "byteLimit": 2048000,
      "rowLimit": 10000
     },
     "inputWidgets": {},
     "nuid": "a58b260b-8111-4503-8d9d-93764d4e03ea",
     "showTitle": false,
     "tableResultSettingsMap": {},
     "title": ""
    }
   },
   "source": [
    "Common Event Hub properties:\n",
    "- connectionString\n",
    "- maxEventsPerTrigger\n",
    "- startingPosition\n",
    "- endingPosition \n",
    "- consumerGroup\n",
    "(see \n",
    "https://github.com/Azure/azure-event-hubs-spark/blob/master/docs/PySpark/structured-streaming-pyspark.md for more details)"
   ]
  },
  {
   "cell_type": "code",
   "execution_count": 0,
   "metadata": {
    "application/vnd.databricks.v1+cell": {
     "cellMetadata": {
      "byteLimit": 2048000,
      "rowLimit": 10000
     },
     "inputWidgets": {},
     "nuid": "bd3baf59-0fc6-40d2-ad67-0bb2ae11be58",
     "showTitle": true,
     "tableResultSettingsMap": {},
     "title": "Key configurations"
    }
   },
   "outputs": [],
   "source": [
    "ehConf={}\n",
    "ehConf['eventhubs.connectionString'] = sc._jvm.org.apache.spark.eventhubs.EventHubsUtils.encrypt(connection_string_ehs)\n",
    "ehConf['eventhubs.eventHubName']=source_event_hub_name\n"
   ]
  },
  {
   "cell_type": "code",
   "execution_count": 0,
   "metadata": {
    "application/vnd.databricks.v1+cell": {
     "cellMetadata": {
      "byteLimit": 2048000,
      "rowLimit": 10000
     },
     "inputWidgets": {},
     "nuid": "7c19f0e3-fc05-4806-b685-c02b54252054",
     "showTitle": true,
     "tableResultSettingsMap": {},
     "title": "Reading from Kafka"
    }
   },
   "outputs": [],
   "source": [
    "df=spark.readStream.format(\"eventhubs\").options(**ehConf).load()\n",
    "display(df)"
   ]
  },
  {
   "cell_type": "code",
   "execution_count": 0,
   "metadata": {
    "application/vnd.databricks.v1+cell": {
     "cellMetadata": {
      "byteLimit": 2048000,
      "rowLimit": 10000
     },
     "inputWidgets": {},
     "nuid": "810962a8-60e9-462a-83fa-e31491c39a06",
     "showTitle": true,
     "tableResultSettingsMap": {},
     "title": "Reading subset of  events"
    }
   },
   "outputs": [],
   "source": [
    "startingEventPosition = {\n",
    "  \"offset\": None,  \n",
    "  \"seqNo\": 1711618,            #not in use\n",
    "  \"enqueuedTime\": None,   #not in use\n",
    "  \"isInclusive\": True\n",
    "}\n",
    "\n",
    "endingEventPosition = {\n",
    "  \"offset\": None,  \n",
    "  \"seqNo\": 1711634,            #not in use\n",
    "  \"enqueuedTime\": None,   #not in use\n",
    "  \"isInclusive\": True\n",
    "}\n",
    "\n",
    "ehConf['startingPosition'] = startingEventPosition\n",
    "ehConf['endingPosition'] = endingEventPosition\n",
    "dfPart=spark.readStream.format(\"eventhubs\").options(**ehConf).load()\n",
    "display(dfPart)"
   ]
  },
  {
   "cell_type": "code",
   "execution_count": 0,
   "metadata": {
    "application/vnd.databricks.v1+cell": {
     "cellMetadata": {
      "byteLimit": 2048000,
      "rowLimit": 10000
     },
     "inputWidgets": {},
     "nuid": "30dd946c-cc88-444d-9ff5-9434617591be",
     "showTitle": false,
     "tableResultSettingsMap": {},
     "title": ""
    }
   },
   "outputs": [],
   "source": [
    "display(df.groupBy(\"partition\",\"partitionKey\").count())"
   ]
  },
  {
   "cell_type": "code",
   "execution_count": 0,
   "metadata": {
    "application/vnd.databricks.v1+cell": {
     "cellMetadata": {
      "byteLimit": 2048000,
      "rowLimit": 10000
     },
     "inputWidgets": {},
     "nuid": "019ca7f2-8e03-4f1a-9333-b3b0b246c6b5",
     "showTitle": true,
     "tableResultSettingsMap": {},
     "title": "Converting event payload to string"
    }
   },
   "outputs": [],
   "source": [
    "df1=df.withColumn(\"event_payload\", F.col(\"body\").cast(\"string\"))\\\n",
    "    .select(\"partition\",\"offset\",\"enqueuedTime\",\"event_payload\")\n",
    "display(df1)    \n"
   ]
  },
  {
   "cell_type": "code",
   "execution_count": 0,
   "metadata": {
    "application/vnd.databricks.v1+cell": {
     "cellMetadata": {
      "byteLimit": 2048000,
      "rowLimit": 10000
     },
     "inputWidgets": {},
     "nuid": "a3d82f56-6539-49e4-a438-8981ef87ab52",
     "showTitle": false,
     "tableResultSettingsMap": {},
     "title": ""
    }
   },
   "outputs": [],
   "source": [
    "iot_schema = StructType([\n",
    "    StructField('EventTime', StringType(), True), \n",
    "    StructField('Office', StringType(), True),\n",
    "    StructField('Measurements', \n",
    "                ArrayType(\n",
    "                    StructType([\n",
    "                        StructField('Sensor', StringType(), True),\n",
    "                        StructField('Measurement', StringType(), True), \n",
    "                        StructField('Value', DoubleType(), True)\n",
    "                    ])\n",
    "                ), \n",
    "                True)\n",
    "])\n",
    "\n",
    "df2 = df1.withColumn(\"EventPayload\", F.from_json(\"event_payload\", iot_schema)) \\\n",
    "         .withColumn(\"Measurements\", F.explode(\"EventPayload.Measurements\")) \\\n",
    "         .selectExpr(\"enqueuedTime\",\n",
    "                     \"current_timestamp() as ProcessingTime\", \n",
    "                     \"offset as ProcessingOffset\",\n",
    "                     \"partition\",\"offset\",\n",
    "                     \"EventPayload.EventTime as EventTime\",\n",
    "                     \"EventPayload.Office as Office\",\"Measurements.*\")\\\n",
    "        .writeStream.format('delta')\\\n",
    "        .option(\"checkpointLocation\",checkpoint_path_sensor1)\\\n",
    "        .toTable('bronze.iot_measurements')                         "
   ]
  },
  {
   "cell_type": "code",
   "execution_count": 0,
   "metadata": {
    "application/vnd.databricks.v1+cell": {
     "cellMetadata": {
      "byteLimit": 2048000,
      "implicitDf": true,
      "rowLimit": 10000
     },
     "inputWidgets": {},
     "nuid": "9d99ddc3-6e79-4e7d-9da0-2a6e6edff00d",
     "showTitle": false,
     "tableResultSettingsMap": {},
     "title": ""
    }
   },
   "outputs": [],
   "source": [
    "%sql\n",
    "select * from bronze.iot_measurements"
   ]
  },
  {
   "cell_type": "code",
   "execution_count": 0,
   "metadata": {
    "application/vnd.databricks.v1+cell": {
     "cellMetadata": {
      "byteLimit": 2048000,
      "rowLimit": 10000
     },
     "inputWidgets": {},
     "nuid": "5e4799cf-e407-49b7-8f5e-a4c73ed5584a",
     "showTitle": true,
     "tableResultSettingsMap": {},
     "title": "Aggregation by event hour"
    }
   },
   "outputs": [],
   "source": [
    "spark.readStream.table('iot_measurements')\\\n",
    "    .groupBy('Office','Sensor','Measurement',F.window('EventTime',' 1 hour'))\\\n",
    "    .agg(F.avg('Value').alias('AvgValue'))\\\n",
    "    .select('Office','Sensor','Measurement',\n",
    "            F.col('window.start').alias(\"EventTimeWindowStart\"),\n",
    "            F.round('AvgValue',1).alias('AvgValue'))\\\n",
    "    .writeStream.format('delta')\\\n",
    "         .outputMode('complete')\\\n",
    "         .option(\"checkpointLocation\",checkpoint_path_sensor2)\\\n",
    "         .toTable('silver.iot_measurements_aggregated')             "
   ]
  },
  {
   "cell_type": "code",
   "execution_count": 0,
   "metadata": {
    "application/vnd.databricks.v1+cell": {
     "cellMetadata": {
      "byteLimit": 2048000,
      "implicitDf": true,
      "rowLimit": 10000
     },
     "inputWidgets": {},
     "nuid": "9da13d15-1d35-45be-ab8c-4892ad2dd790",
     "showTitle": false,
     "tableResultSettingsMap": {},
     "title": ""
    }
   },
   "outputs": [],
   "source": [
    "%sql\n",
    "select * from silver.iot_measurements_aggregated"
   ]
  },
  {
   "cell_type": "code",
   "execution_count": 0,
   "metadata": {
    "application/vnd.databricks.v1+cell": {
     "cellMetadata": {
      "byteLimit": 2048000,
      "rowLimit": 10000
     },
     "inputWidgets": {},
     "nuid": "1a69fadb-d6e8-42d8-95f5-f4bb83cc137e",
     "showTitle": true,
     "tableResultSettingsMap": {},
     "title": "Packing all values together"
    }
   },
   "outputs": [],
   "source": [
    "df3=spark.readStream.table('silver.iot_measurements_aggregated')\\\n",
    "    .select(F.to_json(F.struct(\"EventTimeWindowStart\",\"Office\",\"Measurement\", \"AvgValue\")).alias(\"body\"),\n",
    "    F.col('Office').alias(\"partitionKey\"))    \n",
    "\n",
    "display(df3)        "
   ]
  },
  {
   "cell_type": "code",
   "execution_count": 0,
   "metadata": {
    "application/vnd.databricks.v1+cell": {
     "cellMetadata": {
      "byteLimit": 2048000,
      "rowLimit": 10000
     },
     "inputWidgets": {},
     "nuid": "6b130ac7-8125-450d-840b-4169a7d67137",
     "showTitle": true,
     "tableResultSettingsMap": {},
     "title": "Configuring target Event Hub"
    }
   },
   "outputs": [],
   "source": [
    "connection_string_eht = dbutils.secrets.get(scope = \"fikrats_study_scope\", key = \"eh-dbr-target-connstr\")\n",
    "ehConf={}\n",
    "ehConf['eventhubs.connectionString'] = sc._jvm.org.apache.spark.eventhubs.EventHubsUtils.encrypt(connection_string_eht)\n",
    "ehConf['eventhubs.eventHubName']=sink_event_hub_name"
   ]
  },
  {
   "cell_type": "code",
   "execution_count": 0,
   "metadata": {
    "application/vnd.databricks.v1+cell": {
     "cellMetadata": {
      "byteLimit": 2048000,
      "rowLimit": 10000
     },
     "inputWidgets": {},
     "nuid": "94217634-d02c-4eb2-b20f-0050fb2a501a",
     "showTitle": true,
     "tableResultSettingsMap": {},
     "title": "Writing to Event Hub"
    }
   },
   "outputs": [],
   "source": [
    "df3.writeStream.format(\"eventhubs\")\\\n",
    "        .format(\"eventhubs\")\\\n",
    "        .options(**ehConf)\\\n",
    "        .option(\"checkpointLocation\", checkpoint_path_sensor3)\\\n",
    "        .start()"
   ]
  },
  {
   "cell_type": "markdown",
   "metadata": {
    "application/vnd.databricks.v1+cell": {
     "cellMetadata": {
      "byteLimit": 2048000,
      "rowLimit": 10000
     },
     "inputWidgets": {},
     "nuid": "cae26dfb-d4f9-463c-a893-97d08ad4c185",
     "showTitle": false,
     "tableResultSettingsMap": {},
     "title": ""
    }
   },
   "source": []
  }
 ],
 "metadata": {
  "application/vnd.databricks.v1+notebook": {
   "computePreferences": null,
   "dashboards": [],
   "environmentMetadata": {
    "base_environment": "",
    "environment_version": "1"
   },
   "language": "python",
   "notebookMetadata": {
    "mostRecentlyExecutedCommandWithImplicitDF": {
     "commandId": 5718460057641524,
     "dataframes": [
      "_sqldf"
     ]
    },
    "pythonIndentUnit": 4
   },
   "notebookName": "Spark Streaming from Event hubs",
   "widgets": {}
  },
  "language_info": {
   "name": "python"
  }
 },
 "nbformat": 4,
 "nbformat_minor": 0
}
